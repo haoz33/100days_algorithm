{
 "cells": [
  {
   "cell_type": "markdown",
   "metadata": {},
   "source": [
    "# Squares of Sorted Array\n",
    "\n",
    "Given an integer array nums sorted in non-decreasing order, return an array of the squares of each number sorted in non-decreasing order.\n",
    "\n",
    "\n",
    "## How we approach this question?\n",
    "\n",
    "Some key point about the question\n",
    "1. array is sorted in non-decreasing order\n",
    "2. square of any number will be a positive number\n",
    "\n",
    "## What do we need to compare? \n",
    "\n",
    "Lets start by compare the absolute value at start and end in the array. Why? Because the array is sorted in a ascending order, by comparing start and end value, we are essentially trying to figure out which value is the largest value. If the absolute start value is bigger than the end value, we will place the square of the start value at end of our final array. Then we move left pointer forward 1, and continue this process until we have compared all values.\n"
   ]
  },
  {
   "cell_type": "code",
   "execution_count": null,
   "metadata": {},
   "outputs": [],
   "source": [
    "from typing import List\n",
    "\n",
    "def sortedSquares(nums: List[int]) -> List[int]:\n",
    "    left, right = 0, len(nums)-1\n",
    "    index = len(nums) - 1\n",
    "    result = [0 for i in range(len(nums))]\n",
    "\n",
    "    while index >= 0:\n",
    "        # if the absolute value is bigger, the square value will be bigger as well.\n",
    "        if abs(nums[left]) > abs(nums[right]):\n",
    "            result[index] = nums[left] * nums[left]\n",
    "            left += 1\n",
    "        else:\n",
    "            result[index] = nums[right] * nums[right]\n",
    "            right -= 1\n",
    "        index -= 1\n",
    "\n",
    "    return result\n",
    "\n",
    "\n",
    "print(sortedSquares([-4, -1, 0, 3, 10]))\n"
   ]
  }
 ],
 "metadata": {
  "language_info": {
   "name": "python"
  },
  "orig_nbformat": 4
 },
 "nbformat": 4,
 "nbformat_minor": 2
}
