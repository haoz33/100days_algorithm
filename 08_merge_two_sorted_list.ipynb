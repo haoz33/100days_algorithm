{
 "cells": [
  {
   "cell_type": "markdown",
   "metadata": {},
   "source": [
    "# Merge two sorted list\n",
    "You are given the heads of two sorted linked lists list1 and list2.\n",
    "\n",
    "Merge the two lists in a one sorted list. The list should be made by splicing together the nodes of the first two lists.\n",
    "\n",
    "Return the head of the merged linked list.\n",
    "\n"
   ]
  },
  {
   "cell_type": "code",
   "execution_count": null,
   "metadata": {},
   "outputs": [],
   "source": [
    "class ListNode:\n",
    "    def __init__(self, val=0, next=None):\n",
    "        self.val = val\n",
    "        self.next = next\n",
    "\n",
    "\n",
    "def mergeTwoLists(list1: ListNode, list2: ListNode) -> ListNode:\n",
    "\n",
    "    result = ListNode()\n",
    "    head = result\n",
    "    while list1 and list2:\n",
    "        if list1.val <= list2.val:\n",
    "            result.next = ListNode(list1.val)\n",
    "            list1 = list1.next\n",
    "        else:\n",
    "            result.next = ListNode(list2.val)\n",
    "            list2 = list2.next\n",
    "        result = result.next\n",
    "\n",
    "    # Append remaining node into the final list\n",
    "    if list1:\n",
    "        result.next = list1\n",
    "    if list2:\n",
    "        result.next = list2\n",
    "\n",
    "    return head.next\n"
   ]
  }
 ],
 "metadata": {
  "interpreter": {
   "hash": "b0fa6594d8f4cbf19f97940f81e996739fb7646882a419484c72d19e05852a7e"
  },
  "kernelspec": {
   "display_name": "Python 3.9.10 64-bit",
   "language": "python",
   "name": "python3"
  },
  "language_info": {
   "name": "python",
   "version": "3.9.10"
  },
  "orig_nbformat": 4
 },
 "nbformat": 4,
 "nbformat_minor": 2
}
