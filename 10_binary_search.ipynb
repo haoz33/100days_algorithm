{
 "cells": [
  {
   "cell_type": "markdown",
   "metadata": {},
   "source": [
    "# Binary Search\n",
    "\n",
    "\n",
    "1. define upper and lower boundaries\n",
    "2. compare the middle value with target value \n",
    "3. if target matches, return the index\n",
    "4. else if middle value lower then the target value, change the upper bound to the last index of first half of the list\n",
    "5. same concept apply when middle value is higher than the target value\n",
    "6. loop until upper bound meets lower bound"
   ]
  },
  {
   "cell_type": "code",
   "execution_count": null,
   "metadata": {},
   "outputs": [],
   "source": [
    "from typing import List\n",
    "\n",
    "def search(nums: List[int], target: int) -> int:\n",
    "    low = 0\n",
    "    upper = len(nums) - 1\n",
    "\n",
    "    while low <= upper:\n",
    "        mid = (upper+low)//2\n",
    "\n",
    "        if nums[mid] < target:\n",
    "            low = mid + 1\n",
    "        elif nums[mid] > target:\n",
    "            upper = mid-1\n",
    "        else:\n",
    "            return mid\n",
    "\n",
    "    return -1\n"
   ]
  },
  {
   "cell_type": "markdown",
   "metadata": {},
   "source": [
    "# First Bad Version\n",
    "\n",
    "You are a product manager and currently leading a team to develop a new product. Unfortunately, the latest version of your product fails the quality check. Since each version is developed based on the previous version, all the versions after a bad version are also bad.\n",
    "\n",
    "Suppose you have n versions [1, 2, ..., n] and you want to find out the first bad one, which causes all the following ones to be bad.\n",
    "\n",
    "You are given an API bool isBadVersion(version) which returns whether version is bad. Implement a function to find the first bad version. You should minimize the number of calls to the API.\n",
    "\n",
    "## Soultion\n",
    "\n",
    "We can apply binary search to solve this question to achieve minimum API calls. \n",
    "\n",
    "Let's start from the middle, if the product is in bad version we are not able to determine whatever it is first one or not, so we need to determine the middle value in the first half of version number again. Repeat this process until the first bad version has found. "
   ]
  },
  {
   "cell_type": "code",
   "execution_count": null,
   "metadata": {},
   "outputs": [],
   "source": [
    "def isBadVersion(version: int) -> bool:\n",
    "    pass\n",
    "\n",
    "\n",
    "def firstBadVersion(n: int) -> int:\n",
    "    low = 1\n",
    "    upper = n\n",
    "    while low <= upper:\n",
    "        mid = (upper + low) // 2\n",
    "\n",
    "        if isBadVersion(mid):\n",
    "            upper = mid - 1\n",
    "        else:\n",
    "            low = mid + 1\n",
    "\n",
    "    return low\n"
   ]
  },
  {
   "cell_type": "markdown",
   "metadata": {},
   "source": [
    "# Search Insert\n",
    "Given a sorted array of distinct integers and a target value, return the index if the target is found. If not, return the index where it would be if it were inserted in order.\n",
    "\n",
    "You must write an algorithm with O(log n) runtime complexity.\n",
    "\n"
   ]
  },
  {
   "cell_type": "code",
   "execution_count": null,
   "metadata": {},
   "outputs": [],
   "source": [
    "from typing import List\n",
    "\n",
    "def searchInsert(nums: List[int], target: int) -> int:\n",
    "\n",
    "    low = 0\n",
    "    upper = len(nums) - 1\n",
    "\n",
    "    while low <= upper:\n",
    "        mid = (low + upper) // 2\n",
    "\n",
    "        if nums[mid] == target:\n",
    "            return mid\n",
    "        elif target > nums[mid]:\n",
    "            low = mid + 1\n",
    "        else:\n",
    "            upper = mid - 1\n",
    "\n",
    "    return low\n"
   ]
  }
 ],
 "metadata": {
  "language_info": {
   "name": "python"
  },
  "orig_nbformat": 4
 },
 "nbformat": 4,
 "nbformat_minor": 2
}
