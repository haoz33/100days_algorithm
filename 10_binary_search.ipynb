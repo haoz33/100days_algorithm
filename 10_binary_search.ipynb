{
 "cells": [
  {
   "cell_type": "markdown",
   "metadata": {},
   "source": [
    "# Binary Search\n",
    "\n",
    "\n",
    "1. define upper and lower boundaries\n",
    "2. compare the middle value with target value \n",
    "3. if target matches, return the index\n",
    "4. else if middle value lower then the target value, change the upper bound to the last index of first half of the list\n",
    "5. same concept apply when middle value is higher than the target value\n",
    "6. loop until upper bound meets lower bound"
   ]
  },
  {
   "cell_type": "code",
   "execution_count": null,
   "metadata": {},
   "outputs": [],
   "source": [
    "from typing import List\n",
    "\n",
    "def search(nums: List[int], target: int) -> int:\n",
    "    low = 0\n",
    "    upper = len(nums) - 1\n",
    "\n",
    "    while low <= upper:\n",
    "        mid = (upper+low)//2\n",
    "\n",
    "        if nums[mid] < target:\n",
    "            low = mid + 1\n",
    "        elif nums[mid] > target:\n",
    "            upper = mid-1\n",
    "        else:\n",
    "            return mid\n",
    "\n",
    "    return -1\n"
   ]
  }
 ],
 "metadata": {
  "language_info": {
   "name": "python"
  },
  "orig_nbformat": 4
 },
 "nbformat": 4,
 "nbformat_minor": 2
}
