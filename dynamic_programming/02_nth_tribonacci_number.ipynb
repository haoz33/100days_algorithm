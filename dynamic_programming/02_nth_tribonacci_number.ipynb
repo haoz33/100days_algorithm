{
 "cells": [
  {
   "cell_type": "markdown",
   "metadata": {},
   "source": [
    "# N-th Tribonacci Number\n",
    "\n",
    "The Tribonacci sequence Tn is defined as follows: \n",
    "\n",
    "T0 = 0, T1 = 1, T2 = 1, and Tn+3 = Tn + Tn+1 + Tn+2 for n >= 0.\n",
    "\n",
    "Given n, return the value of Tn.\n",
    "\n"
   ]
  },
  {
   "cell_type": "code",
   "execution_count": null,
   "metadata": {},
   "outputs": [],
   "source": [
    "class Solution:\n",
    "    def __init__(self):\n",
    "        self.dp ={0:0,1:1,2:1}\n",
    "    def tribonacci(self, n: int) -> int:\n",
    "\n",
    "        if n in self.dp:\n",
    "            return self.dp[n]\n",
    "\n",
    "        result = self.tribonacci(n-1) + self.tribonacci(n-2) + self.tribonacci(n-3)\n",
    "        self.dp[n] =result\n",
    "        return result\n"
   ]
  }
 ],
 "metadata": {
  "language_info": {
   "name": "python"
  },
  "orig_nbformat": 4
 },
 "nbformat": 4,
 "nbformat_minor": 2
}
