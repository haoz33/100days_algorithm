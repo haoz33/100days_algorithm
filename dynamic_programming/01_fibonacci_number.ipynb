{
 "cells": [
  {
   "cell_type": "markdown",
   "metadata": {},
   "source": [
    "# Fibonacci Number\n",
    "The Fibonacci numbers, commonly denoted F(n) form a sequence, called the Fibonacci sequence, such that each number is the sum of the two preceding ones, starting from 0 and 1. That is,\n",
    "\n",
    "> F(0) = 0, F(1) = 1\n",
    "> F(n) = F(n - 1) + F(n - 2), for n > 1.\n",
    "Given n, calculate F(n)."
   ]
  },
  {
   "cell_type": "code",
   "execution_count": null,
   "metadata": {},
   "outputs": [],
   "source": [
    "class Solution:\n",
    "    def __init__(self):\n",
    "        # Two base case: fib(0) = 0, fib(1) = 1 \n",
    "        self.dp  = {0:0,1:1}\n",
    "\n",
    "    def fib(self, n: int) -> int:\n",
    "        if n in self.dp:\n",
    "            return self.dp[n]\n",
    "\n",
    "        result = self.fib(n-1) + self.fib(n-2)\n",
    "        self.dp[n] = result\n",
    "        return result\n"
   ]
  }
 ],
 "metadata": {
  "language_info": {
   "name": "python"
  },
  "orig_nbformat": 4
 },
 "nbformat": 4,
 "nbformat_minor": 2
}
