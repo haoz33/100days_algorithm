{
 "cells": [
  {
   "cell_type": "markdown",
   "metadata": {},
   "source": [
    "# Climbing Stairs\n",
    "\n",
    "You are climbing a staircase. It takes n steps to reach the top.\n",
    "\n",
    "Each time you can either climb 1 or 2 steps. In how many distinct ways can you climb to the top?\n",
    "\n",
    "# Heuristic \n",
    "\n",
    "For N Stair, we can climb it from either N-2 stair or N-1 stair. Why? Because we can step either 1 or 2 step forward. \n",
    "\n"
   ]
  },
  {
   "cell_type": "code",
   "execution_count": null,
   "metadata": {},
   "outputs": [],
   "source": [
    "class Solution:\n",
    "    def __init__(self):\n",
    "        self.dp = {0: 0, 1: 1}\n",
    "\n",
    "    def fib(self, n: int) -> int:\n",
    "        if n in self.dp:\n",
    "            return self.dp[n]\n",
    "\n",
    "        result = self.fib(n-1) + self.fib(n-2)\n",
    "        self.dp[n] = result\n",
    "        return result\n",
    "\n",
    "    def climbStairs(self, n: int) -> int:\n",
    "        return self.fib(n+1)\n"
   ]
  }
 ],
 "metadata": {
  "language_info": {
   "name": "python"
  },
  "orig_nbformat": 4
 },
 "nbformat": 4,
 "nbformat_minor": 2
}
