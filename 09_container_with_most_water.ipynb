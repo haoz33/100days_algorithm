{
 "cells": [
  {
   "cell_type": "markdown",
   "metadata": {},
   "source": [
    "# Container With Most Water\n",
    "You are given an integer array height of length n. There are n vertical lines drawn such that the two endpoints of the ith line are (i, 0) and (i, height[i]).\n",
    "\n",
    "Find two lines that together with the x-axis form a container, such that the container contains the most water.\n",
    "\n",
    "Return the maximum amount of water a container can store.\n",
    "\n",
    "Example 1:\n",
    "![Exmaple Image](./asset/day_9.jpg)\n",
    "\n",
    "Input: height = [1,8,6,2,5,4,8,3,7]\n",
    "\n",
    "Output: 49\n",
    "\n",
    "Explanation: The above vertical lines are represented by array [1,8,6,2,5,4,8,3,7]. In this case, the max area of water (blue section) the container can contain is 49.\n"
   ]
  },
  {
   "cell_type": "markdown",
   "metadata": {},
   "source": [
    "## Brute force solution\n",
    "Loop through the array, in each index find all possible area values. \n",
    "\n",
    "```python \n",
    "def maxArea(height: List[int]) -> int:\n",
    "    area = 0\n",
    "    for i in range(len(height)):\n",
    "        for j in range(i+1, len(height)):\n",
    "            h = min(height[i], height[j]) \n",
    "            w = j - i\n",
    "            area = max(area, h*w)\n",
    "    return area\n",
    "```\n",
    "\n",
    "\n",
    "## How can we improve on the brute force solution?\n",
    "Use two pointer. We use left and right pointer point to start and end of the array accordingly, then move the pointers inward to calculate the area. \n",
    "\n",
    "How does this work?\n",
    "Because we always use minimum height of two height we obtained and the width is always decrease when you move one of pointer inward, therefore the only way area will bigger than its current is that we increase the minimum height.  \n"
   ]
  },
  {
   "cell_type": "code",
   "execution_count": null,
   "metadata": {},
   "outputs": [],
   "source": [
    "from typing import List\n",
    "\n",
    "def maxArea(height: List[int]) -> int:\n",
    "    area = 0\n",
    "\n",
    "    l = 0\n",
    "    r = len(height) - 1\n",
    "\n",
    "    while l < r:\n",
    "        h = min(height[l], height[r])\n",
    "        w = r-l\n",
    "        area = max(h*w, area)\n",
    "\n",
    "        if height[l] < height[r]:\n",
    "            l += 1\n",
    "        else:\n",
    "            r -= 1\n",
    "\n",
    "    return area\n"
   ]
  }
 ],
 "metadata": {
  "interpreter": {
   "hash": "e7370f93d1d0cde622a1f8e1c04877d8463912d04d973331ad4851f04de6915a"
  },
  "kernelspec": {
   "display_name": "Python 3.10.1 64-bit",
   "language": "python",
   "name": "python3"
  },
  "language_info": {
   "name": "python",
   "version": "3.10.1"
  },
  "orig_nbformat": 4
 },
 "nbformat": 4,
 "nbformat_minor": 2
}
