{
 "cells": [
  {
   "cell_type": "markdown",
   "metadata": {},
   "source": [
    "# Longest Substring Without Repeating Characters\n",
    "Given a string s, find the length of the longest substring without repeating characters."
   ]
  },
  {
   "cell_type": "markdown",
   "metadata": {},
   "source": [
    "#### Solution \n",
    "\n",
    "Use hash map to store the repeated character index, calculate the length of non-repeating substring using the index of repeated character and current index in the array."
   ]
  },
  {
   "cell_type": "code",
   "execution_count": null,
   "metadata": {},
   "outputs": [],
   "source": [
    "def lengthOfLongestSubstring(s: str) -> int:\n",
    "    hash_map = {}\n",
    "    max_length = 0\n",
    "\n",
    "    i = 0\n",
    "    for j in range(len(s)):\n",
    "        if s[j] in hash_map:\n",
    "            i = max(hash_map[s[j]], i)\n",
    "\n",
    "        current = j-i+1\n",
    "\n",
    "        max_length = max(max_length, current)\n",
    "\n",
    "        hash_map[s[j]] = j+1\n",
    "\n",
    "    return max_length\n"
   ]
  }
 ],
 "metadata": {
  "interpreter": {
   "hash": "e7370f93d1d0cde622a1f8e1c04877d8463912d04d973331ad4851f04de6915a"
  },
  "kernelspec": {
   "display_name": "Python 3.10.1 64-bit",
   "language": "python",
   "name": "python3"
  },
  "language_info": {
   "name": "python",
   "version": "3.10.1"
  },
  "orig_nbformat": 4
 },
 "nbformat": 4,
 "nbformat_minor": 2
}
