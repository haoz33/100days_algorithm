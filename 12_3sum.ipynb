{
 "cells": [
  {
   "cell_type": "code",
   "execution_count": null,
   "metadata": {},
   "outputs": [],
   "source": []
  },
  {
   "cell_type": "markdown",
   "metadata": {},
   "source": [
    "# 3 Sum\n",
    "\n",
    "Given an integer array nums, return all the triplets [nums[i], nums[j], nums[k]] such that i != j, i != k, and j != k, and nums[i] + nums[j] + nums[k] == 0.\n",
    "\n",
    "Notice that the solution set must not contain duplicate triplets.\n",
    "\n",
    "Hint:\n",
    "\n",
    "So, we essentially need to find three numbers x, y, and z such that they add up to the given value. If we fix one of the numbers say x, we are left with the two-sum problem at hand!\n",
    "\n",
    "\n",
    "\n",
    "## Let's fix 1 number \n",
    "\n",
    "[-1,0,1,2,-1,-4]\n",
    "\n",
    "[-4,-1,-1,0,1,2]\n",
    "\n",
    "-4 + a + b\n"
   ]
  }
 ],
 "metadata": {
  "language_info": {
   "name": "python"
  },
  "orig_nbformat": 4
 },
 "nbformat": 4,
 "nbformat_minor": 2
}
