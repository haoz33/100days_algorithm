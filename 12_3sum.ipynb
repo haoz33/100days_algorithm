{
 "cells": [
  {
   "cell_type": "markdown",
   "metadata": {},
   "source": [
    "# 3 Sum\n",
    " \n",
    "Given an integer array nums, return all the triplets [nums[i], nums[j], nums[k]] such that i != j, i != k, and j != k, and nums[i] + nums[j] + nums[k] == 0.\n",
    " \n",
    "Notice that the solution set must not contain duplicate triplets.\n",
    " \n",
    "Hint:\n",
    " \n",
    "So, we essentially need to find three numbers x, y, and z such that they add up to the given value. If we fix one of the numbers, say x, we are left with the two-sum problem at hand!\n",
    " \n",
    "# Solution\n",
    " \n",
    "Fix a number in place and try to find another 2 numbers by using two pointers.\n",
    " \n",
    "Essentially, we use a variable `i` to loop through the array, inside the loop we create two more pointers `j` and `k` pointing to the element next to `i` and the last element of the array respectively.\n",
    " \n",
    "We need to check if elements at `i`, `j`, `k` add up to zero, if it is bigger than zero, we move the `k` left by one (The array is sorted in ascending order, move pointer right by one means find next smaller element), if it is smaller than zero we move the `j` right by one, until we found 3 number add up to zero.\n",
    " "
   ]
  },
  {
   "cell_type": "code",
   "execution_count": null,
   "metadata": {},
   "outputs": [],
   "source": [
    "from typing import List\n",
    "\n",
    "\n",
    "def threeSum(nums: List[int]) -> List[List[int]]:\n",
    "    nums.sort()\n",
    "    # Use set to not add duplicate result\n",
    "    result = set() \n",
    "\n",
    "\n",
    "    for i in range(len(nums)):\n",
    "\n",
    "        # end the for loop after first fixed become positive, because it is a sorted list and any value after a postivie i will be positive too.\n",
    "        if nums[i] > 0:\n",
    "            break\n",
    "\n",
    "        # Skip repeated element\n",
    "        if i > 0 and nums[i] == nums[i-1]:\n",
    "            continue\n",
    "\n",
    "        j = i+1\n",
    "        k = len(nums) - 1\n",
    "\n",
    "        while j < k:\n",
    "            if nums[i] + nums[j] + nums[k] < 0:\n",
    "                j += 1\n",
    "\n",
    "            elif nums[i] + nums[j] + nums[k] > 0:\n",
    "                k -= 1\n",
    "            else:\n",
    "                result.add((nums[i], nums[j], nums[k]))\n",
    "                j += 1\n",
    "                k -= 1\n",
    "\n",
    "    return result\n"
   ]
  }
 ],
 "metadata": {
  "language_info": {
   "name": "python"
  },
  "orig_nbformat": 4
 },
 "nbformat": 4,
 "nbformat_minor": 2
}
