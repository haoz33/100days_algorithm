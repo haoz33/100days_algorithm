{
 "cells": [
  {
   "cell_type": "markdown",
   "metadata": {},
   "source": [
    "# Two Sum\n",
    "Problem description from LeetCode\n",
    "\n",
    "Given an array of integers nums and an integer target, return indices of the two numbers such that they add up to target. \n",
    "You may assume that each input would have exactly one solution, and you may `not` use the same element twice.\n",
    "\n"
   ]
  },
  {
   "cell_type": "markdown",
   "metadata": {},
   "source": [
    "#### Brute force\n",
    "The most simple and straightforward way to slove the question is using nested loop, the only catch is that we cannot use the same element twice, so we will loop base on the first loop index. "
   ]
  },
  {
   "cell_type": "code",
   "execution_count": 1,
   "metadata": {},
   "outputs": [],
   "source": [
    "def two_sum_brute_force(nums, target: int):\n",
    "    for i in range(0, len(nums)):\n",
    "        for j in range(i+1, len(nums)):\n",
    "            if nums[i] + nums[j] == target:\n",
    "                return [i, j]\n"
   ]
  },
  {
   "cell_type": "markdown",
   "metadata": {},
   "source": [
    "#### Hash map\n",
    "\n",
    "Instead of use nested loops, we use hash map to reduce look up time to constant O(1). The hash map will be used store the `{nums[index]:index}` pairs.\n",
    "\n",
    "To utilize the hash map we will calculate the difference between the target and current number(`nums[i]`), then try to lookup the difference in the hashmap.\n",
    "\n",
    "For example: Given an array [2,3,4,5], find target 5\n",
    "\n",
    "1. calculate the difference 5(`target`) - 2(`num[0]`) = 3\n",
    "2. try to find 3 in hash map.\n",
    "3. not in the hash map, store `{2:0}` in to hash map.  \n",
    "4. calculate the difference 5 -3(`num[1]`) = 2 \n",
    "5. try to find 2 in hash map.\n",
    "6. 2 found in hashmap, return `[1,hash_map[2]]`\n"
   ]
  },
  {
   "cell_type": "code",
   "execution_count": null,
   "metadata": {},
   "outputs": [],
   "source": [
    "def two_sum_hash_map(nums, target: int):\n",
    "    hash_map = {}\n",
    "    for i in range(0, len(nums)):\n",
    "        difference = target - nums[i]\n",
    "        if difference in hash_map:\n",
    "            return [i, hash_map[difference]]\n",
    "        hash_map[nums[i]] = i"
   ]
  }
 ],
 "metadata": {
  "interpreter": {
   "hash": "e7370f93d1d0cde622a1f8e1c04877d8463912d04d973331ad4851f04de6915a"
  },
  "kernelspec": {
   "display_name": "Python 3.10.1 64-bit",
   "language": "python",
   "name": "python3"
  },
  "language_info": {
   "codemirror_mode": {
    "name": "ipython",
    "version": 3
   },
   "file_extension": ".py",
   "mimetype": "text/x-python",
   "name": "python",
   "nbconvert_exporter": "python",
   "pygments_lexer": "ipython3",
   "version": "3.10.1"
  },
  "orig_nbformat": 4
 },
 "nbformat": 4,
 "nbformat_minor": 2
}
