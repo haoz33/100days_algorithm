{
 "cells": [
  {
   "cell_type": "markdown",
   "metadata": {},
   "source": [
    "# Longest Palindromic Substring\n",
    "\n",
    "Given a string s, return the longest palindromic substring in s.\n",
    "\n",
    "Palindromic string means the string is same when it read from left to right and read from right to left"
   ]
  },
  {
   "cell_type": "markdown",
   "metadata": {},
   "source": [
    "## Solution \n",
    "\n",
    "Ways to find palindromic substring\n",
    "1. Compare the left and right characters from the current index, if they are same then expand the left and right index by one, else it means it is not a palindromic string.\n",
    "\n",
    "Some edge case to consider:\n",
    "1. One character is also a valid palindromic string.\n",
    "2. From the above stated method we can only find palindromic string with odd lengths. In order to find even length palindromic string we will need handle it separately."
   ]
  },
  {
   "cell_type": "code",
   "execution_count": null,
   "metadata": {},
   "outputs": [],
   "source": [
    "def longestPalindrome(s: str) -> str:\n",
    "    result = ''\n",
    "    max_len = 0\n",
    "\n",
    "    n = len(s)\n",
    "    for i in range(n):\n",
    "        l = i\n",
    "        r = i\n",
    "\n",
    "        # Handle odd length and single characters cases.\n",
    "        while l >= 0 and r < n and s[l] == s[r]:\n",
    "            if(r-l+1) > max_len:\n",
    "                result = s[l:r+1]\n",
    "                max_len = r-l+1\n",
    "            l -= 1\n",
    "            r += 1\n",
    "\n",
    "        # Handle even length cases.\n",
    "        l = i\n",
    "        r = i + 1\n",
    "        while l >= 0 and r < n and s[l] == s[r]:\n",
    "            if(r-l+1) > max_len:\n",
    "                result = s[l:r+1]\n",
    "                max_len = r-l+1\n",
    "            l -= 1\n",
    "            r += 1\n",
    "\n",
    "    return result"
   ]
  }
 ],
 "metadata": {
  "interpreter": {
   "hash": "e7370f93d1d0cde622a1f8e1c04877d8463912d04d973331ad4851f04de6915a"
  },
  "kernelspec": {
   "display_name": "Python 3.10.1 64-bit",
   "language": "python",
   "name": "python3"
  },
  "language_info": {
   "name": "python",
   "version": "3.10.1"
  },
  "orig_nbformat": 4
 },
 "nbformat": 4,
 "nbformat_minor": 2
}
