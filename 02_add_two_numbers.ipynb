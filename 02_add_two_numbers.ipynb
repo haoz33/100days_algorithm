{
 "cells": [
  {
   "cell_type": "markdown",
   "metadata": {},
   "source": [
    "# Add Two Numbers\n",
    "Problem description from LeetCode\n",
    "\n",
    "You are given two non-empty linked lists representing two non-negative integers. The digits are stored in reverse order, and each of their nodes contains a single digit. Add the two numbers and return the sum as a linked list.\n",
    "\n",
    "You may assume the two numbers do not contain any leading zero, except the number 0 itself.\n",
    "\n"
   ]
  },
  {
   "cell_type": "markdown",
   "metadata": {},
   "source": [
    "#### Solution\n",
    "\n",
    "Since the number is in a reversed order, we can start from the head of the linked list to the end of list, then calculate the sum just like how we use addition in real-world. \n",
    "\n",
    "We will need a variable called `carry` to keep track of any two digit sum exceeds 9, and add it to the next sum. \n",
    "\n",
    "Some test case to consider: \n",
    "1. When one of the list is longer than another one, we will need use 0 to replace the missing number.\n",
    "2. When the sum need carry at end of the list, we will need to add one in the end. \n",
    "\n",
    "Basic procedure: \n",
    "1. create a linked list called `result` initialize it to zero.\n",
    "2. create `carry` initialize with zero.\n",
    "3. Check `l1` and `l2`'s value, if None then set them to 0.\n",
    "4. sum up `l1`, `l2`, and `carry` values, if values bigger than 9, set carry to 1.\n",
    "5. append the sumed result into `result`.\n",
    "6. repeat 3 to 5, until `l1` is None or `l2` is None or `carry` is 0\n"
   ]
  },
  {
   "cell_type": "code",
   "execution_count": null,
   "metadata": {},
   "outputs": [],
   "source": [
    "class ListNode:\n",
    "    def __init__(self, val=0, next=None):\n",
    "        self.val = val\n",
    "        self.next = next\n",
    "\n",
    "\n",
    "def addTwoNumbers(l1: ListNode, l2: ListNode) -> ListNode:\n",
    "    result = ListNode(0)\n",
    "    result_tail = result\n",
    "    carry = 0\n",
    "\n",
    "    while l1 or l2 or carry:\n",
    "        val1 = l1.val if l1 else 0\n",
    "        val2 = l2.val if l2 else 0\n",
    "        carry, remainder = divmod(val1+val2+carry, 10)\n",
    "        result_tail.next = ListNode(remainder)\n",
    "        result_tail = result_tail.next\n",
    "\n",
    "        l1 = l1.next if l1 else None\n",
    "        l2 = l2.next if l2 else None\n",
    "\n",
    "    return result.next\n"
   ]
  }
 ],
 "metadata": {
  "interpreter": {
   "hash": "e7370f93d1d0cde622a1f8e1c04877d8463912d04d973331ad4851f04de6915a"
  },
  "kernelspec": {
   "display_name": "Python 3.10.1 64-bit",
   "language": "python",
   "name": "python3"
  },
  "language_info": {
   "name": "python",
   "version": "3.10.1"
  },
  "orig_nbformat": 4
 },
 "nbformat": 4,
 "nbformat_minor": 2
}
