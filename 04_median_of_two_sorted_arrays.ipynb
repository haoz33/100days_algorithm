{
 "cells": [
  {
   "cell_type": "markdown",
   "metadata": {},
   "source": [
    "# Median of two sorted arrays\n",
    "\n",
    "Given two sorted arrays nums1 and nums2 of size m and n respectively, return the median of the two sorted arrays.\n",
    "The overall run time complexity should be O(log (m+n)).\n",
    "\n"
   ]
  },
  {
   "cell_type": "markdown",
   "metadata": {},
   "source": [
    "#### First thought  \n",
    "Combine two arrays into one sorted array, then calculate the median. "
   ]
  },
  {
   "cell_type": "code",
   "execution_count": null,
   "metadata": {},
   "outputs": [],
   "source": [
    "def findMedianSortedArrays(nums1, nums2) -> float:\n",
    "\n",
    "    combined = []\n",
    "    i1 = 0\n",
    "    i2 = 0\n",
    "\n",
    "    while i1 is not None or i2 is not None:\n",
    "        # handle empty array and when no element left on the array.\n",
    "        val1 = nums1[i1] if i1 is not None and len(nums1) != 0 else None\n",
    "        val2 = nums2[i2] if i2 is not None and len(nums2) != 0 else None\n",
    "\n",
    "\n",
    "        # add all remain item into array if another array has been fully iternated.\n",
    "        if(val1 == None):\n",
    "            for i in range(i2, len(nums2)):\n",
    "                combined.append(nums2[i])\n",
    "            break\n",
    "        if(val2 == None):\n",
    "            for i in range(i1, len(nums1)):\n",
    "                combined.append(nums1[i])\n",
    "            break\n",
    "\n",
    "        # compare values\n",
    "        if val1 < val2:\n",
    "            combined.append(val1)\n",
    "            i1 += 1\n",
    "            if i1 == len(nums1):\n",
    "                i1 = None\n",
    "        else:\n",
    "            combined.append(val2)\n",
    "            i2 += 1\n",
    "            if i2 == len(nums2):\n",
    "                i2 = None\n",
    "\n",
    "    p = (len(combined)+1) / 2\n",
    "    if float(p).is_integer():\n",
    "        return combined[int(p - 1)]\n",
    "    else:\n",
    "        return (combined[int(p)-1] + combined[int(p)])/2"
   ]
  },
  {
   "cell_type": "markdown",
   "metadata": {},
   "source": [
    "#### Combine two array without use extra space\n",
    "\n",
    "Instead of create a combined array, we calculate the expected median index first then loop through the array and count toward the median. "
   ]
  },
  {
   "cell_type": "code",
   "execution_count": null,
   "metadata": {},
   "outputs": [],
   "source": [
    "def findMedianSortedArraysWithoutSpace(nums1, nums2) -> float:\n",
    "    m1, m2 = -1, -1\n",
    "    i, j = 0, 0\n",
    "    n, m = len(nums1), len(nums2)\n",
    "\n",
    "    if((m+n) % 2 == 1):\n",
    "        for count in range(((n + m) // 2) + 1):\n",
    "            if(i != n and j != m):\n",
    "                if nums1[i] > nums2[j]:\n",
    "                    m1 = nums2[j]\n",
    "                    j += 1\n",
    "                else:\n",
    "                    m1 = nums1[i]\n",
    "                    i += 1\n",
    "            elif(i < n):\n",
    "                m1 = nums1[i]\n",
    "                i += 1\n",
    "\n",
    "            else:\n",
    "                m1 = nums2[j]\n",
    "                j += 1\n",
    "        return m1\n",
    "    else:\n",
    "        for count in range(((n + m) // 2) + 1):\n",
    "            m2 = m1\n",
    "            if(i != n and j != m):\n",
    "                if nums1[i] > nums2[j]:\n",
    "                    m1 = nums2[j]\n",
    "                    j += 1\n",
    "                else:\n",
    "                    m1 = nums1[i]\n",
    "                    i += 1\n",
    "            elif(i < n):\n",
    "                m1 = nums1[i]\n",
    "                i += 1\n",
    "            else:\n",
    "                m1 = nums2[j]\n",
    "                j += 1\n",
    "        return (m1 + m2) / 2"
   ]
  },
  {
   "cell_type": "markdown",
   "metadata": {},
   "source": [
    "#### Utilizing sorted property of the array "
   ]
  },
  {
   "cell_type": "code",
   "execution_count": null,
   "metadata": {},
   "outputs": [],
   "source": []
  }
 ],
 "metadata": {
  "interpreter": {
   "hash": "e7370f93d1d0cde622a1f8e1c04877d8463912d04d973331ad4851f04de6915a"
  },
  "kernelspec": {
   "display_name": "Python 3.10.1 64-bit",
   "language": "python",
   "name": "python3"
  },
  "language_info": {
   "name": "python",
   "version": "3.10.1"
  },
  "orig_nbformat": 4
 },
 "nbformat": 4,
 "nbformat_minor": 2
}
